{
 "cells": [
  {
   "cell_type": "code",
   "execution_count": 7,
   "metadata": {},
   "outputs": [],
   "source": [
    "def find_most_min_number_not_include(int_array: list) -> int:\n",
    "    array_length = len(int_array)\n",
    "    arange_array = list(range(array_length))\n",
    "    for i in int_array:\n",
    "        if i < array_length:\n",
    "            arange_array[i] = array_length\n",
    "    return min(arange_array[1:])"
   ]
  },
  {
   "cell_type": "code",
   "execution_count": 10,
   "metadata": {},
   "outputs": [],
   "source": [
    "assert find_most_min_number_not_include([1, 2, 0]) == 3\n",
    "assert find_most_min_number_not_include([3, 4, -1, 1]) == 2\n",
    "assert find_most_min_number_not_include([7, 8, 9, 11, 12]) == 1"
   ]
  }
 ],
 "metadata": {
  "interpreter": {
   "hash": "04f1c6e45bf8503b5ff7816e132616577349009348e674c297067b24bdd268aa"
  },
  "kernelspec": {
   "display_name": "Python 3.8.13 ('searchEnv2')",
   "language": "python",
   "name": "python3"
  },
  "language_info": {
   "codemirror_mode": {
    "name": "ipython",
    "version": 3
   },
   "file_extension": ".py",
   "mimetype": "text/x-python",
   "name": "python",
   "nbconvert_exporter": "python",
   "pygments_lexer": "ipython3",
   "version": "3.8.13"
  },
  "orig_nbformat": 4
 },
 "nbformat": 4,
 "nbformat_minor": 2
}
