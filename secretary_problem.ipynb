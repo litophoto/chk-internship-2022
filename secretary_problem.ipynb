{
 "cells": [
  {
   "cell_type": "code",
   "execution_count": 38,
   "metadata": {},
   "outputs": [],
   "source": [
    "import random\n",
    "\n",
    "def select(n, k):\n",
    "    values = [random.random() for _ in range(n)]\n",
    "    max_value_to_k = max(values[:k])\n",
    "    selected_value = 0\n",
    "    for value in values[k:]:\n",
    "        if max_value_to_k < value:\n",
    "            selected_value = value\n",
    "            break\n",
    "\n",
    "    return int(selected_value == max(values))"
   ]
  },
  {
   "cell_type": "code",
   "execution_count": 43,
   "metadata": {},
   "outputs": [],
   "source": [
    "import numpy as np\n",
    "import matplotlib.pyplot as plt\n",
    "\n",
    "\n",
    "n = 1000\n",
    "\n",
    "stack_results = np.zeros(n-1)\n",
    "for _ in range(1000):\n",
    "    results = [select(n, k) for k in range(1, n)]\n",
    "    results_array = np.array(results)\n",
    "    stack_results = stack_results + results_array"
   ]
  },
  {
   "cell_type": "code",
   "execution_count": 44,
   "metadata": {},
   "outputs": [
    {
     "data": {
      "text/plain": [
       "<BarContainer object of 999 artists>"
      ]
     },
     "execution_count": 44,
     "metadata": {},
     "output_type": "execute_result"
    },
    {
     "data": {
      "image/png": "[encoded data removed]",
      "text/plain": [
       "<Figure size 432x288 with 1 Axes>"
      ]
     },
     "metadata": {
      "needs_background": "light"
     },
     "output_type": "display_data"
    }
   ],
   "source": [
    "left = range(1, n)\n",
    "height = stack_results\n",
    "\n",
    "plt.bar(left, height)\n"
   ]
  },
  {
   "cell_type": "code",
   "execution_count": null,
   "metadata": {},
   "outputs": [],
   "source": []
  }
 ],
 "metadata": {
  "interpreter": {
   "hash": "04f1c6e45bf8503b5ff7816e132616577349009348e674c297067b24bdd268aa"
  },
  "kernelspec": {
   "display_name": "Python 3.8.13 ('searchEnv2')",
   "language": "python",
   "name": "python3"
  },
  "language_info": {
   "codemirror_mode": {
    "name": "ipython",
    "version": 3
   },
   "file_extension": ".py",
   "mimetype": "text/x-python",
   "name": "python",
   "nbconvert_exporter": "python",
   "pygments_lexer": "ipython3",
   "version": "3.8.13"
  },
  "orig_nbformat": 4
 },
 "nbformat": 4,
 "nbformat_minor": 2
}
