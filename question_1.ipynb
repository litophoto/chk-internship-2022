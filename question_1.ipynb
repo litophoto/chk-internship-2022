{
 "cells": [
  {
   "cell_type": "code",
   "execution_count": 37,
   "metadata": {},
   "outputs": [],
   "source": [
    "import itertools\n",
    "\n",
    "class InputTarget:\n",
    "    def __init__(self, array, target):\n",
    "        self.array = array\n",
    "        self.target = target\n",
    "\n",
    "    def output(self):\n",
    "        sorted_array = sorted(self.array)\n",
    "        combinations = itertools.combinations(self.array, 2)\n",
    "        for i, j in combinations:\n",
    "            if i + j == self.target:\n",
    "                first_index = self.array.index(i)\n",
    "                last_index = self.array.index(j, first_index+1)\n",
    "                return (first_index, last_index)\n",
    "\n",
    "# This code is O(n^2)\n",
    "# So, it's not suitable"
   ]
  },
  {
   "cell_type": "code",
   "execution_count": 115,
   "metadata": {},
   "outputs": [],
   "source": [
    "from collections import deque\n",
    "\n",
    "class InputTarget:\n",
    "    def __init__(self, array, target):\n",
    "        self.array = array\n",
    "        self.target = target\n",
    "        \n",
    "    def return_index(self):\n",
    "        i, j = self.search_2set()\n",
    "        return sorted([key for key, value in enumerate(self.array) if value == i or value == j])\n",
    "\n",
    "    def search_2set(self):\n",
    "        sorted_array = sorted(self.array) # This sorted is quick sort: O(nlogn)\n",
    "        d = deque(sorted_array)\n",
    "        head = d.popleft()\n",
    "        tail = d.pop()\n",
    "        while True:\n",
    "            if head + tail == self.target:\n",
    "                return (head, tail)\n",
    "            elif head + tail > self.target:\n",
    "                tail = d.pop()\n",
    "            else:\n",
    "                head = d.popleft()"
   ]
  },
  {
   "cell_type": "code",
   "execution_count": 116,
   "metadata": {},
   "outputs": [],
   "source": [
    "# test\n",
    "assert InputTarget([1, 2, 3], 5).return_index() == [1, 2]\n",
    "assert InputTarget([11, 2, 5, 1, 19], 12).return_index() == [0, 3]\n",
    "assert InputTarget([2, 2], 4).return_index() == [0, 1]"
   ]
  },
  {
   "cell_type": "code",
   "execution_count": null,
   "metadata": {},
   "outputs": [],
   "source": []
  }
 ],
 "metadata": {
  "interpreter": {
   "hash": "04f1c6e45bf8503b5ff7816e132616577349009348e674c297067b24bdd268aa"
  },
  "kernelspec": {
   "display_name": "Python 3.8.13 ('searchEnv2')",
   "language": "python",
   "name": "python3"
  },
  "language_info": {
   "codemirror_mode": {
    "name": "ipython",
    "version": 3
   },
   "file_extension": ".py",
   "mimetype": "text/x-python",
   "name": "python",
   "nbconvert_exporter": "python",
   "pygments_lexer": "ipython3",
   "version": "3.8.13"
  },
  "orig_nbformat": 4
 },
 "nbformat": 4,
 "nbformat_minor": 2
}
