{
 "cells": [
  {
   "cell_type": "code",
   "execution_count": 9,
   "metadata": {},
   "outputs": [],
   "source": [
    "def find_long_common_prefix(s: list) -> str:\n",
    "    prefix_list = [p[0] for p in zip(*s) if len(set(p)) == 1]\n",
    "    prefix = ''.join(prefix_list)\n",
    "    return prefix"
   ]
  },
  {
   "cell_type": "code",
   "execution_count": 10,
   "metadata": {},
   "outputs": [],
   "source": [
    "assert find_long_common_prefix(['tea', 'test', 'teacher']) == 'te'\n",
    "assert find_long_common_prefix(['a', 'bcd', 'efga']) == ''"
   ]
  },
  {
   "cell_type": "code",
   "execution_count": null,
   "metadata": {},
   "outputs": [],
   "source": []
  }
 ],
 "metadata": {
  "interpreter": {
   "hash": "04f1c6e45bf8503b5ff7816e132616577349009348e674c297067b24bdd268aa"
  },
  "kernelspec": {
   "display_name": "Python 3.8.13 ('searchEnv2')",
   "language": "python",
   "name": "python3"
  },
  "language_info": {
   "codemirror_mode": {
    "name": "ipython",
    "version": 3
   },
   "file_extension": ".py",
   "mimetype": "text/x-python",
   "name": "python",
   "nbconvert_exporter": "python",
   "pygments_lexer": "ipython3",
   "version": "3.8.13"
  },
  "orig_nbformat": 4
 },
 "nbformat": 4,
 "nbformat_minor": 2
}
