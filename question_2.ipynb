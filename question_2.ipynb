{
 "cells": [
  {
   "cell_type": "code",
   "execution_count": 12,
   "metadata": {},
   "outputs": [],
   "source": [
    "import math\n",
    "\n",
    "def is_palindrome(x):\n",
    "    if x < 0:\n",
    "        return False\n",
    "    digits = [(x//(10**i))%10 for i in range(math.ceil(math.log(x, 10))-1, -1, -1)]\n",
    "    re_digits = digits[::-1]\n",
    "    return digits == re_digits"
   ]
  },
  {
   "cell_type": "code",
   "execution_count": 13,
   "metadata": {},
   "outputs": [],
   "source": [
    "assert is_palindrome(121) == True\n",
    "assert is_palindrome(-121) == False\n",
    "assert is_palindrome(12) == False"
   ]
  },
  {
   "cell_type": "code",
   "execution_count": null,
   "metadata": {},
   "outputs": [],
   "source": []
  }
 ],
 "metadata": {
  "interpreter": {
   "hash": "04f1c6e45bf8503b5ff7816e132616577349009348e674c297067b24bdd268aa"
  },
  "kernelspec": {
   "display_name": "Python 3.8.13 ('searchEnv2')",
   "language": "python",
   "name": "python3"
  },
  "language_info": {
   "codemirror_mode": {
    "name": "ipython",
    "version": 3
   },
   "file_extension": ".py",
   "mimetype": "text/x-python",
   "name": "python",
   "nbconvert_exporter": "python",
   "pygments_lexer": "ipython3",
   "version": "3.8.13"
  },
  "orig_nbformat": 4
 },
 "nbformat": 4,
 "nbformat_minor": 2
}
